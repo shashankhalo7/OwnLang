{
 "cells": [
  {
   "cell_type": "code",
   "execution_count": 1,
   "metadata": {},
   "outputs": [],
   "source": [
    "from rply import LexerGenerator\n",
    "\n",
    "lg = LexerGenerator()\n",
    "\n",
    "lg.add('NUMBER', r'\\d+')\n",
    "lg.add('PLUS', r'\\+')\n",
    "lg.add('MINUS', r'-')\n",
    "lg.add('MUL', r'\\*')\n",
    "lg.add('DIV', r'/')\n",
    "lg.add('OPEN_PARENS', r'\\(')\n",
    "lg.add('CLOSE_PARENS', r'\\)')\n",
    "\n",
    "lg.ignore('\\s+')\n",
    "\n",
    "lexer = lg.build()\n"
   ]
  },
  {
   "cell_type": "code",
   "execution_count": 2,
   "metadata": {},
   "outputs": [],
   "source": [
    "from rply.token import BaseBox\n",
    "\n",
    "class Number(BaseBox):\n",
    "    def __init__(self, value):\n",
    "        self.value = value\n",
    "\n",
    "    def eval(self):\n",
    "        return self.value\n",
    "\n",
    "class BinaryOp(BaseBox):\n",
    "    def __init__(self, left, right):\n",
    "        self.left = left\n",
    "        self.right = right\n",
    "\n",
    "class Add(BinaryOp):\n",
    "    def eval(self):\n",
    "        return self.left.eval() + self.right.eval()\n",
    "\n",
    "class Sub(BinaryOp):\n",
    "    def eval(self):\n",
    "        return self.left.eval() - self.right.eval()\n",
    "\n",
    "class Mul(BinaryOp):\n",
    "    def eval(self):\n",
    "        return self.left.eval() * self.right.eval()\n",
    "\n",
    "class Div(BinaryOp):\n",
    "    def eval(self):\n",
    "        return self.left.eval() / self.right.eval()\n"
   ]
  },
  {
   "cell_type": "code",
   "execution_count": 3,
   "metadata": {},
   "outputs": [],
   "source": [
    "from rply import ParserGenerator\n",
    "\n",
    "pg = ParserGenerator(\n",
    "    # A list of all token names, accepted by the parser.\n",
    "    ['NUMBER', 'OPEN_PARENS', 'CLOSE_PARENS',\n",
    "     'PLUS', 'MINUS', 'MUL', 'DIV'\n",
    "    ],\n",
    "    # A list of precedence rules with ascending precedence, to\n",
    "    # disambiguate ambiguous production rules.\n",
    "    precedence=[\n",
    "        ('left', ['PLUS', 'MINUS']),\n",
    "        ('left', ['MUL', 'DIV'])\n",
    "    ]\n",
    ")\n",
    "\n",
    "@pg.production('expression : NUMBER')\n",
    "def expression_number(p):\n",
    "    # p is a list of the pieces matched by the right hand side of the\n",
    "    # rule\n",
    "    return Number(int(p[0].getstr()))\n",
    "\n",
    "@pg.production('expression : OPEN_PARENS expression CLOSE_PARENS')\n",
    "def expression_parens(p):\n",
    "    return p[1]\n",
    "\n",
    "@pg.production('expression : expression PLUS expression')\n",
    "@pg.production('expression : expression MINUS expression')\n",
    "@pg.production('expression : expression MUL expression')\n",
    "@pg.production('expression : expression DIV expression')\n",
    "def expression_binop(p):\n",
    "    left = p[0]\n",
    "    right = p[2]\n",
    "    if p[1].gettokentype() == 'PLUS':\n",
    "        return Add(left, right)\n",
    "    elif p[1].gettokentype() == 'MINUS':\n",
    "        return Sub(left, right)\n",
    "    elif p[1].gettokentype() == 'MUL':\n",
    "        return Mul(left, right)\n",
    "    elif p[1].gettokentype() == 'DIV':\n",
    "        return Div(left, right)\n",
    "    else:\n",
    "        raise AssertionError('Oops, this should not be possible!')\n",
    "\n",
    "parser = pg.build()"
   ]
  },
  {
   "cell_type": "code",
   "execution_count": 8,
   "metadata": {},
   "outputs": [
    {
     "data": {
      "text/plain": [
       "9"
      ]
     },
     "execution_count": 8,
     "metadata": {},
     "output_type": "execute_result"
    }
   ],
   "source": [
    "parser.parse(lexer.lex('5+6-1*2')).eval()"
   ]
  },
  {
   "cell_type": "code",
   "execution_count": null,
   "metadata": {},
   "outputs": [],
   "source": []
  }
 ],
 "metadata": {
  "kernelspec": {
   "display_name": "Python 3",
   "language": "python",
   "name": "python3"
  },
  "language_info": {
   "codemirror_mode": {
    "name": "ipython",
    "version": 3
   },
   "file_extension": ".py",
   "mimetype": "text/x-python",
   "name": "python",
   "nbconvert_exporter": "python",
   "pygments_lexer": "ipython3",
   "version": "3.6.5"
  }
 },
 "nbformat": 4,
 "nbformat_minor": 2
}
